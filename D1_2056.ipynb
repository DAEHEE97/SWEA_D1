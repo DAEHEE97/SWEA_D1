{
 "cells": [
  {
   "cell_type": "markdown",
   "metadata": {},
   "source": [
    "# 2056. 연월일 달력 \n",
    "\n",
    "\n",
    "해당 날짜의 유효성을 판단한 후, 날짜가 유효하다면 ”YYYY/MM/DD”형식으로 출력하고,\n",
    "\n",
    "\n",
    "날짜가 유효하지 않을 경우, -1 을 출력하는 프로그램을 작성하라."
   ]
  },
  {
   "cell_type": "markdown",
   "metadata": {},
   "source": [
    "## [입력]\n",
    "\n",
    "입력은 첫 줄에 총 테스트 케이스의 개수 T가 온다.\n",
    "\n",
    "다음 줄부터 각 테스트 케이스가 주어진다.\n",
    "\n",
    "\n",
    "## [출력]\n",
    "\n",
    "테스트 케이스 t에 대한 결과는 “#t”을 찍고, 한 칸 띄고, 정답을 출력한다.\n",
    "\n",
    "(t는 테스트 케이스의 번호를 의미하며 1부터 시작한다.)\n",
    "\n",
    "\n",
    "\n",
    "31일: 1 3 5 7 8 10 12\n",
    "\n",
    "30일: 4 6 9 11\n",
    "\n",
    "28일: 2"
   ]
  },
  {
   "cell_type": "markdown",
   "metadata": {},
   "source": [
    "---"
   ]
  },
  {
   "cell_type": "code",
   "execution_count": 1,
   "metadata": {},
   "outputs": [
    {
     "name": "stdout",
     "output_type": "stream",
     "text": [
      "5\n",
      "22220228\n",
      "#1 2222/02/28\n",
      "20150002\n",
      "#2 -1\n",
      "01010101\n",
      "#3 0101/01/01\n",
      "20140230\n",
      "#4 -1\n",
      "11111111\n",
      "#5 1111/11/11\n"
     ]
    }
   ],
   "source": [
    "T = int(input())\n",
    "\n",
    "for t in range(T):\n",
    "    \n",
    "    ymd = input()\n",
    "    \n",
    "    YYYY = ymd[:4]\n",
    "    \n",
    "    MM = ymd[4:6]\n",
    "    \n",
    "    DD = ymd[6:]\n",
    "    \n",
    "    if( int(MM) in [1,3,5,7,8,10,12] and (int(DD) <=31) ):\n",
    "        print('#{0} {1}'.format(t+1,YYYY+ '/' + MM + '/'+ DD))\n",
    "        \n",
    "    elif( int(MM) in [4,6,9,11] and (int(DD) <=30) ):\n",
    "        print('#{0} {1}'.format(t+1,YYYY+ '/' + MM + '/'+ DD))\n",
    "        \n",
    "    elif( int(MM) in [2] and (int(DD) <=28) ):\n",
    "        print('#{0} {1}'.format(t+1,YYYY+ '/' + MM + '/'+ DD))\n",
    "    \n",
    "    else:\n",
    "        print('#{0} {1}'.format(t+1,-1))\n",
    "\n",
    "\n",
    "        "
   ]
  },
  {
   "cell_type": "markdown",
   "metadata": {},
   "source": [
    "---"
   ]
  },
  {
   "cell_type": "code",
   "execution_count": null,
   "metadata": {},
   "outputs": [],
   "source": [
    "# or and \n",
    "\n",
    "N = int(input())\n",
    "\n",
    "lst_result = a\n",
    "\n",
    "    \n",
    "for i in range(N):\n",
    "\n",
    "    date = input()\n",
    "\n",
    "    year = int(date[0:4])\n",
    "    month = int(date[4:6])\n",
    "    day = int(date[6:])\n",
    "\n",
    "\n",
    "    if ((month==1 or month==3 or month==5 or month== 7 or month == 8 or month==10 or month==12) and (day <=31)):\n",
    "        lst_result.append(date[0:4]+'/'+date[4:6]+'/'+date[6:])\n",
    "\n",
    "    elif ((month==4 or month==6 or month==9 or month== 11) and (day <=30)):\n",
    "        lst_result.append(date[0:4]+'/'+date[4:6]+'/'+date[6:])\n",
    "\n",
    "    elif ((month==2) and (day <=28)):\n",
    "        lst_result.append(date[0:4]+'/'+date[4:6]+'/'+date[6:])\n",
    "\n",
    "    else:\n",
    "        lst_result.append(-1)\n",
    "        \n",
    "for i in range(N):\n",
    "    print('#{0} {1}'.format(i+1,lst_result[i]))\n",
    "\n",
    "      "
   ]
  },
  {
   "cell_type": "markdown",
   "metadata": {},
   "source": [
    "---"
   ]
  },
  {
   "cell_type": "code",
   "execution_count": null,
   "metadata": {},
   "outputs": [],
   "source": [
    "# 함수\n",
    "\n",
    "def fun_year(n):\n",
    "    \n",
    "    month = int(n[4])*10 + int(n[5]) # string 은 변경 안됨, 대신 접근 + 재정의 가능 \n",
    "    day = int(n[6])*10 + int(n[7])\n",
    "    \n",
    "    # return string 슬라이싱 '+'\n",
    "    if (month == 1 or month == 3 or month == 5 or month == 7 or month == 8 or month == 10 or month == 12) and (day <=31):\n",
    "        return n[:4]+'/'+n[4:6]+'/'+n[6:8];\n",
    "    \n",
    "    elif (month == 4 or month == 6 or month == 9 or month == 11) and (day <= 30):\n",
    "        return n[:4]+'/'+n[4:6]+'/'+n[6:8];\n",
    "    \n",
    "    elif (month == 2) and (day <=28):\n",
    "        return n[:4]+'/'+n[4:6]+'/'+n[6:8];\n",
    "    \n",
    "    else:\n",
    "        return -1;\n",
    "    \n",
    "    \n",
    "N = int(input()) # case 개수 입력\n",
    "\n",
    "lst_out = [] # 출력용 리스트\n",
    "\n",
    "\n",
    "for i in range(N):\n",
    "    \n",
    "    n = input() # 년 월 일 문자열 로 입력\n",
    "    \n",
    "    lst_out.append(fun_year(n))\n",
    "\n",
    "    \n",
    "for i in range(N):\n",
    "    print('#{0} {1}'.format(i+1, lst_out[i]))\n",
    "        \n",
    "    \n",
    "    \n",
    "    "
   ]
  },
  {
   "cell_type": "markdown",
   "metadata": {},
   "source": [
    "---"
   ]
  }
 ],
 "metadata": {
  "hide_input": false,
  "kernelspec": {
   "display_name": "Python 3",
   "language": "python",
   "name": "python3"
  },
  "language_info": {
   "codemirror_mode": {
    "name": "ipython",
    "version": 3
   },
   "file_extension": ".py",
   "mimetype": "text/x-python",
   "name": "python",
   "nbconvert_exporter": "python",
   "pygments_lexer": "ipython3",
   "version": "3.8.5"
  },
  "toc": {
   "base_numbering": 1,
   "nav_menu": {},
   "number_sections": true,
   "sideBar": true,
   "skip_h1_title": false,
   "title_cell": "Table of Contents",
   "title_sidebar": "Contents",
   "toc_cell": false,
   "toc_position": {},
   "toc_section_display": true,
   "toc_window_display": false
  },
  "vscode": {
   "interpreter": {
    "hash": "aee8b7b246df8f9039afb4144a1f6fd8d2ca17a180786b69acc140d282b71a49"
   }
  }
 },
 "nbformat": 4,
 "nbformat_minor": 4
}
